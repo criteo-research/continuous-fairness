{
 "cells": [
  {
   "cell_type": "markdown",
   "metadata": {},
   "source": [
    "Let's generetate two correlated 1D Tensors"
   ]
  },
  {
   "cell_type": "code",
   "execution_count": 1,
   "metadata": {},
   "outputs": [],
   "source": [
    "import torch\n",
    "import numpy as np\n",
    "\n",
    "n = 2000\n",
    "d = 1\n",
    "X = torch.tensor(np.random.multinomial(1, [1/3.]*3, n).dot([-1,0,1])).float()\n",
    "#You can add some extra noise if wanted\n",
    "Y = X**2 # + torch.tensor(np.random.normal(0,1,n)).float()"
   ]
  },
  {
   "cell_type": "markdown",
   "metadata": {},
   "source": [
    "and visualize an estimation of their standardized joint density "
   ]
  },
  {
   "cell_type": "code",
   "execution_count": 3,
   "metadata": {},
   "outputs": [
    {
     "data": {
      "text/plain": [
       "<matplotlib.image.AxesImage at 0x125174048>"
      ]
     },
     "execution_count": 3,
     "metadata": {},
     "output_type": "execute_result"
    },
    {
     "data": {
      "image/png": "[encoded data removed]",
      "text/plain": [
       "<Figure size 432x288 with 1 Axes>"
      ]
     },
     "metadata": {
      "needs_background": "light"
     },
     "output_type": "display_data"
    }
   ],
   "source": [
    "import os\n",
    "import sys\n",
    "sys.path.append(os.path.abspath(os.path.join('..')))\n",
    "import matplotlib.pylab as plt\n",
    "\n",
    "from facl.independence.density_estimation.pytorch_kde import kde\n",
    "from facl.independence.hgr import _joint_2\n",
    "\n",
    "density = _joint_2(X, Y, kde)\n",
    "plt.imshow(density)"
   ]
  },
  {
   "cell_type": "markdown",
   "metadata": {},
   "source": [
    "HGR estimation is able to detect the dependancy (recall 0 means no dependance and 1 complete determination). Also note that the computation are made on the kde estimates while when one of the variable is discrete it is possible to make use of it to reduce dimensionality of the kernel density estimation. Contact us if you need this.  "
   ]
  },
  {
   "cell_type": "code",
   "execution_count": 4,
   "metadata": {},
   "outputs": [
    {
     "name": "stdout",
     "output_type": "stream",
     "text": [
      "HGR estimation by Wittenhausein: 0.963 \n",
      "Chi square upper bound: 0.963 \n"
     ]
    }
   ],
   "source": [
    "from facl.independence.hgr import chi_2, hgr\n",
    "print( \"HGR estimation by Wittenhausein: {:.3f} \\nChi square upper bound: {:.3f} \".format(  hgr(X, Y, kde), chi_2(X, Y, kde).sqrt() ))"
   ]
  },
  {
   "cell_type": "markdown",
   "metadata": {},
   "source": [
    "While the peason fails to detect correlation"
   ]
  },
  {
   "cell_type": "code",
   "execution_count": 5,
   "metadata": {},
   "outputs": [
    {
     "name": "stdout",
     "output_type": "stream",
     "text": [
      "Pearson correlation -0.019\n"
     ]
    }
   ],
   "source": [
    "from scipy.stats import pearsonr\n",
    "corr, p_value = pearsonr(X.numpy(), Y.numpy())\n",
    "print( \"Pearson correlation {:.3f}\".format(corr))"
   ]
  },
  {
   "cell_type": "code",
   "execution_count": null,
   "metadata": {},
   "outputs": [],
   "source": []
  }
 ],
 "metadata": {
  "kernelspec": {
   "display_name": "Python 3",
   "language": "python",
   "name": "python3"
  },
  "language_info": {
   "codemirror_mode": {
    "name": "ipython",
    "version": 3
   },
   "file_extension": ".py",
   "mimetype": "text/x-python",
   "name": "python",
   "nbconvert_exporter": "python",
   "pygments_lexer": "ipython3",
   "version": "3.7.2"
  }
 },
 "nbformat": 4,
 "nbformat_minor": 2
}
